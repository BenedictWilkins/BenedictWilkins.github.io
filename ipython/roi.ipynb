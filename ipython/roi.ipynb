{
 "cells": [
  {
   "cell_type": "code",
   "execution_count": 1,
   "metadata": {},
   "outputs": [],
   "source": [
    "from IPython.display import display\n",
    "\n",
    "from ipyevents import Event \n",
    "from ipycanvas import Canvas, MultiCanvas\n",
    "\n",
    "import numpy as np"
   ]
  },
  {
   "cell_type": "code",
   "execution_count": 2,
   "metadata": {},
   "outputs": [
    {
     "data": {
      "application/vnd.jupyter.widget-view+json": {
       "model_id": "34181d7d57ad4334acf9de8b5825a029",
       "version_major": 2,
       "version_minor": 0
      },
      "text/plain": [
       "MultiCanvas(height=100, width=100)"
      ]
     },
     "metadata": {},
     "output_type": "display_data"
    }
   ],
   "source": [
    "from IPython.display import display\n",
    "\n",
    "from ipyevents import Event \n",
    "from ipycanvas import Canvas, MultiCanvas\n",
    "\n",
    "import numpy as np\n",
    "\n",
    "class IPyEventMouseMoveHandler:\n",
    "\n",
    "    def __init__(self, widget, callback, snap=(1,1)):\n",
    "        self.px = self.py = 0\n",
    "        \n",
    "        self._snapx = snap[0]\n",
    "        self._snapy = snap[1]\n",
    "        self.callback = callback\n",
    "        \n",
    "        self.ipyevent = Event(source=widget, watched_events=['mousemove'])\n",
    "        self.ipyevent.on_dom_event(self)\n",
    "\n",
    "    def __call__(self, event):\n",
    "        x, y = event['relativeX'] - 2, event['relativeY'] - 2\n",
    "        x = int(x / self._snapx) * self._snapx\n",
    "        y = int(y / self._snapy) * self._snapy\n",
    "\n",
    "        if self.px == x and self.py == y:\n",
    "            return\n",
    "\n",
    "        self.px, self.py = x, y\n",
    "        self.callback(x, y)\n",
    "\n",
    "box_shape = (20,20)\n",
    "image = np.zeros((100,100,3), dtype=np.uint8)\n",
    "\n",
    "canvas = MultiCanvas(2, width=image.shape[0], height=image.shape[1])\n",
    "canvas[0].put_image_data(image, 0, 0)\n",
    "\n",
    "bw = box_shape[0]\n",
    "bh = box_shape[1]\n",
    "\n",
    "def callback(x, y):\n",
    "    canvas[1].clear()\n",
    "    canvas[1].fill_style = 'white'\n",
    "    canvas[1].global_alpha = 0.2\n",
    "    canvas[1].fill_rect(x,y,bw,bh)\n",
    "\n",
    "    canvas[1].global_alpha = 1.\n",
    "    canvas[1].stroke_style = 'red'\n",
    "    canvas[1].stroke_rect(x,y,bw,bh)\n",
    "\n",
    "mmh = IPyEventMouseMoveHandler(canvas, callback, snap=(bw,bh))    \n",
    "display(canvas)\n",
    "\n",
    "\n"
   ]
  },
  {
   "cell_type": "code",
   "execution_count": 2,
   "metadata": {},
   "outputs": [
    {
     "data": {
      "application/vnd.jupyter.widget-view+json": {
       "model_id": "86ad2339166c432db289094b2f1bcfc9",
       "version_major": 2,
       "version_minor": 0
      },
      "text/plain": [
       "Canvas(height=100, sync_image_data=True, width=100)"
      ]
     },
     "metadata": {},
     "output_type": "display_data"
    }
   ],
   "source": [
    "image = np.zeros((100,100,3), dtype=np.uint8)\n",
    "\n",
    "canvas = Canvas(width=image.shape[0], height=image.shape[1], sync_image_data=True)\n",
    "canvas.put_image_data(image, 0, 0)\n",
    "\n",
    "display(canvas)"
   ]
  },
  {
   "cell_type": "code",
   "execution_count": 6,
   "metadata": {},
   "outputs": [],
   "source": [
    "canvas.to_file('/home/ben/Downloads/black_canvas.png')"
   ]
  },
  {
   "cell_type": "code",
   "execution_count": 7,
   "metadata": {},
   "outputs": [
    {
     "data": {
      "application/vnd.jupyter.widget-view+json": {
       "model_id": "50d5f4e578b04ae8b1ddc132c93c159c",
       "version_major": 2,
       "version_minor": 0
      },
      "text/plain": [
       "MultiCanvas(height=100, sync_image_data=True, width=100)"
      ]
     },
     "metadata": {},
     "output_type": "display_data"
    }
   ],
   "source": [
    "x = 10\n",
    "y = 10\n",
    "box_shape = (20,20)\n",
    "image = np.zeros((100,100,3), dtype=np.uint8)\n",
    "\n",
    "canvas = MultiCanvas(2, width=image.shape[0], height=image.shape[1], sync_image_data=True)\n",
    "canvas[0].put_image_data(image, 0, 0)\n",
    "\n",
    "canvas[1].fill_style = 'white'\n",
    "canvas[1].global_alpha = 0.2\n",
    "canvas[1].fill_rect(x,y,box_shape[0],box_shape[1])\n",
    "\n",
    "canvas[1].global_alpha = 1.\n",
    "canvas[1].stroke_style = 'red'\n",
    "canvas[1].stroke_rect(x,y,box_shape[0],box_shape[1])\n",
    "  \n",
    "display(canvas)"
   ]
  },
  {
   "cell_type": "code",
   "execution_count": 8,
   "metadata": {},
   "outputs": [],
   "source": [
    "canvas.to_file('/home/ben/Downloads/roi_canvas.png')"
   ]
  },
  {
   "cell_type": "code",
   "execution_count": 35,
   "metadata": {},
   "outputs": [
    {
     "data": {
      "application/vnd.jupyter.widget-view+json": {
       "model_id": "9e880fbc8df045e4b2ffd6617284d142",
       "version_major": 2,
       "version_minor": 0
      },
      "text/plain": [
       "MultiCanvas(height=100, sync_image_data=True, width=100)"
      ]
     },
     "metadata": {},
     "output_type": "display_data"
    }
   ],
   "source": [
    "x = 10\n",
    "y = 10\n",
    "box_shape = (20,20)\n",
    "image = np.zeros((100,100,3), dtype=np.uint8)\n",
    "\n",
    "canvas = MultiCanvas(2, width=image.shape[0], height=image.shape[1], sync_image_data=True)\n",
    "canvas[0].put_image_data(image, 0, 0)\n",
    "\n",
    "o_canvas = canvas\n",
    "canvas = canvas[1]\n",
    "\n",
    "canvas.stroke_style = 'red'\n",
    "canvas.begin_path()\n",
    "canvas.arc(50, 50, 30, 0, np.pi * 2, True)\n",
    "canvas.stroke()\n",
    "\n",
    "canvas.begin_path()\n",
    "canvas.arc(50, 50, 15, 0, np.pi * 2, True)\n",
    "canvas.stroke()\n",
    "\n",
    "canvas.fill_style = 'white'\n",
    "canvas.global_alpha = 0.2\n",
    "canvas.begin_path()\n",
    "canvas.arc(50, 50, 30, 0, np.pi * 2, True)\n",
    "canvas.arc(50, 50, 15, 0, np.pi * 2, True)\n",
    "canvas.fill('evenodd')\n",
    "\n",
    "'''\n",
    "canvas.fill('evenodd')\n",
    "\n",
    "\n",
    "#canvas[1].fill_rect(x,y,box_shape[0],box_shape[1])\n",
    "\n",
    "canvas.stroke_style = 'red'\n",
    "canvas[1].begin_path()\n",
    "\n",
    "canvas[1].stroke()\n",
    "'''\n",
    "#canvas[1].arc(50, 50, 15, 0, np.pi * 2, True)\n",
    "#canvas[1].fill('evenodd')\n",
    "\n",
    "display(o_canvas)"
   ]
  },
  {
   "cell_type": "code",
   "execution_count": 36,
   "metadata": {},
   "outputs": [],
   "source": [
    "o_canvas.to_file('/home/ben/Downloads/novel_canvas.png')"
   ]
  },
  {
   "cell_type": "code",
   "execution_count": 4,
   "metadata": {},
   "outputs": [
    {
     "data": {
      "application/vnd.jupyter.widget-view+json": {
       "model_id": "86ad2339166c432db289094b2f1bcfc9",
       "version_major": 2,
       "version_minor": 0
      },
      "text/plain": [
       "Canvas(height=100, image_data=b'\\x89PNG\\r\\n\\x1a\\n\\x00\\x00\\x00\\rIHDR\\x00\\x00\\x00d\\x00\\x00\\x00d\\x08\\x06\\x00\\x00\\…"
      ]
     },
     "metadata": {},
     "output_type": "display_data"
    }
   ],
   "source": [
    "class IPyEventMouseMoveHandler:\n",
    "\n",
    "    def __init__(self, widget, callback):\n",
    "        self.px = self.py = 0\n",
    "        self.callback = callback\n",
    "        \n",
    "        self.ipyevent = Event(source=widget, watched_events=['mousemove'])\n",
    "        self.ipyevent.on_dom_event(self)\n",
    "\n",
    "    def __call__(self, event): #call on mouse move\n",
    "        x, y = event['relativeX'] - 2, event['relativeY'] - 2\n",
    "\n",
    "        if self.px == x and self.py == y: \n",
    "            return\n",
    "\n",
    "        self.px, self.py = x, y\n",
    "        self.callback(x, y)\n",
    "        \n",
    "IPyEventMouseMoveHandler(canvas, lambda x,y: print(x,y))\n",
    "\n",
    "display(canvas)"
   ]
  },
  {
   "cell_type": "code",
   "execution_count": null,
   "metadata": {},
   "outputs": [],
   "source": []
  }
 ],
 "metadata": {
  "file_extension": ".py",
  "kernelspec": {
   "display_name": "Python 3.8.1 64-bit ('PhD': conda)",
   "language": "python",
   "name": "python38164bitphdconda4a8805f6f8044089a89ef6c6f106aeb7"
  },
  "language_info": {
   "codemirror_mode": {
    "name": "ipython",
    "version": 3
   },
   "file_extension": ".py",
   "mimetype": "text/x-python",
   "name": "python",
   "nbconvert_exporter": "python",
   "pygments_lexer": "ipython3",
   "version": "3.8.1"
  },
  "mimetype": "text/x-python",
  "name": "python",
  "npconvert_exporter": "python",
  "pygments_lexer": "ipython3",
  "version": 3
 },
 "nbformat": 4,
 "nbformat_minor": 2
}
